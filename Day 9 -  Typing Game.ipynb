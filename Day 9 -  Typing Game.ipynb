{
 "cells": [
  {
   "cell_type": "markdown",
   "metadata": {},
   "source": [
    "# Typing Game: Most Basic Form\n",
    "## 1. Importing all of the needed packages"
   ]
  },
  {
   "cell_type": "code",
   "execution_count": 15,
   "metadata": {},
   "outputs": [],
   "source": [
    "from random import choice\n",
    "from datetime import datetime\n",
    "from time import sleep"
   ]
  },
  {
   "cell_type": "markdown",
   "metadata": {},
   "source": [
    "## 2. Loading the usa.txt for use"
   ]
  },
  {
   "cell_type": "code",
   "execution_count": 16,
   "metadata": {},
   "outputs": [],
   "source": [
    "usa_raw = open('usa.txt')\n",
    "#open the usa.txt file, and save it to the variable usa_raw\n",
    "\n",
    "usa_string = usa_raw.read()\n",
    "#read the raw data from usa_raw into usa_string\n",
    "\n",
    "usa_list =  usa_string.split('\\n')\n",
    "#using the .split() method, turn the string usa_string into a list, and save to usa_list\n",
    "\n",
    "usa_raw.close()\n",
    "#close usa_raw"
   ]
  },
  {
   "cell_type": "markdown",
   "metadata": {},
   "source": [
    "## 3. Making actual gameplay"
   ]
  },
  {
   "cell_type": "code",
   "execution_count": 17,
   "metadata": {},
   "outputs": [
    {
     "name": "stdout",
     "output_type": "stream",
     "text": [
      "A random word will show on the screen.\n",
      "You will have five seconds to type the word correctly and submit it by hitting enter.\n",
      "Only then will you get a point.\n",
      "No points for the incorrect word, or submissions after the time limit.\n",
      "Good luck!\n",
      "how many rounds would you like to play? jfoidahf\n",
      "remember to type an integer\n",
      "how many rounds would you like to play? hfiodah\n",
      "remember to type an integer\n",
      "how many rounds would you like to play? 5.0\n",
      "remember to type an integer\n",
      "how many rounds would you like to play? 3\n",
      "holograph\n",
      "holograph\n",
      "Correct!\n",
      "bypassed\n",
      "fhdiofhda\n",
      "You typed it wrong :(\n",
      "burrowed\n",
      "burrowed\n",
      "Right word but you took too long\n",
      "Your total score was 1\n"
     ]
    }
   ],
   "source": [
    "print(\"A random word will show on the screen.\")\n",
    "print(\"You will have five seconds to type the word correctly and submit it by hitting enter.\")\n",
    "print(\"Only then will you get a point.\")\n",
    "print(\"No points for the incorrect word, or submissions after the time limit.\")\n",
    "print(\"Good luck!\")\n",
    "sleep(5)\n",
    "#giving the user instructions\n",
    "\n",
    "while True:\n",
    "    user_input =  input(\"how many rounds would you like to play? \")\n",
    "    #get user input on how many rounds to play\n",
    "    try:\n",
    "        rounds = int(user_input)\n",
    "        break\n",
    "        #if the input is able to be turned into an integer, break out of the while loop\n",
    "    except ValueError:\n",
    "        print(\"remember to type an integer\")\n",
    "        #if the input is not able to be turned into an integer, prompt user on why their input is wrong\n",
    "        \n",
    "score = 0\n",
    "#set score to 0 before game starts\n",
    "\n",
    "for i in range(rounds):\n",
    "    #repeat for given length of time\n",
    "    answer = choice(usa_list)\n",
    "    #randomly select a word from the usa_list of words\n",
    "    print(answer)\n",
    "    #print the answer\n",
    "    \n",
    "    current_time = datetime.now()\n",
    "    #get the current time when the answer was shown\n",
    "    user_answer = input()\n",
    "    #promt the user to type the word\n",
    "    answer_time = datetime.now()\n",
    "    #get the time where the user has answered\n",
    "    time_diff=answer_time-current_time\n",
    "    #find the difference between the two times\n",
    "    total_seconds = time_diff.total_seconds()\n",
    "    #find this difference in seconds\n",
    "    \n",
    "    if total_seconds <5 and user_answer==answer:\n",
    "    #if the total time is less than five seconds, and the user got it right\n",
    "        print(\"Correct!\")\n",
    "        score +=1\n",
    "    elif total_seconds >5 and user_answer==answer:\n",
    "    #if the total time is greater than five seconds, but the user got it right\n",
    "        print (\"Right word but you took too long\")\n",
    "    else:\n",
    "    #if the user got it wrong\n",
    "        print(\"You typed it wrong :(\")\n",
    "        \n",
    "print(\"Your total score was\", score)\n",
    "#display final score"
   ]
  }
 ],
 "metadata": {
  "kernelspec": {
   "display_name": "Python 3",
   "language": "python",
   "name": "python3"
  },
  "language_info": {
   "codemirror_mode": {
    "name": "ipython",
    "version": 3
   },
   "file_extension": ".py",
   "mimetype": "text/x-python",
   "name": "python",
   "nbconvert_exporter": "python",
   "pygments_lexer": "ipython3",
   "version": "3.8.3"
  }
 },
 "nbformat": 4,
 "nbformat_minor": 4
}
