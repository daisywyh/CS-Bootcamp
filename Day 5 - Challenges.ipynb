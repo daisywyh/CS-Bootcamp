{
 "cells": [
  {
   "cell_type": "markdown",
   "metadata": {},
   "source": [
    "# Instructions\n",
    "Compete to be the winner of today's challenges! Awards will be given to the person who has the most points, and to the person who has the most creative solution to a problem, as well as the person who has the most elegant solution to a problem. Good luck, and as always, feel free to use Google, as well as ask Dr. Angelo or Daisy if you have any questions.\n",
    "\n",
    "o(*^▽^*)o\n",
    "\n",
    "## NOTE: For each problem, you should call the function created, or use the program created, in order to demonstrate that your code works."
   ]
  },
  {
   "cell_type": "markdown",
   "metadata": {},
   "source": [
    "# Challenge 1:\n",
    "## 0.5 points\n",
    "Print \n",
    "    \"Hello world\""
   ]
  },
  {
   "cell_type": "code",
   "execution_count": null,
   "metadata": {},
   "outputs": [],
   "source": []
  },
  {
   "cell_type": "markdown",
   "metadata": {},
   "source": [
    "# Challenge 2:\n",
    "## 1 point\n",
    "Using a loop, print \"Hello World\" three times on three seperate lines."
   ]
  },
  {
   "cell_type": "code",
   "execution_count": null,
   "metadata": {},
   "outputs": [],
   "source": []
  },
  {
   "cell_type": "markdown",
   "metadata": {},
   "source": [
    "# Challenge 3:\n",
    "## 1 point\n",
    "Using turtle, draw a circle."
   ]
  },
  {
   "cell_type": "code",
   "execution_count": null,
   "metadata": {},
   "outputs": [],
   "source": []
  },
  {
   "cell_type": "markdown",
   "metadata": {},
   "source": [
    "# Challenge 4:\n",
    "## 1 point\n",
    "Print the first three elements of challenge2_list. You should print out \n",
    "    \n",
    "    [\"here\", \"are\", \"the\"]"
   ]
  },
  {
   "cell_type": "code",
   "execution_count": 2,
   "metadata": {},
   "outputs": [],
   "source": [
    "challenge2_list =  [\"here\", \"are\", \"the\", \"contents\", \"of\", \"this\", \"list\"]"
   ]
  },
  {
   "cell_type": "markdown",
   "metadata": {},
   "source": [
    "# Challenge 5:\n",
    "## 2 points\n",
    "Create a function that prints the sum of two integers, then call this function on two integers to prove that it works.\n",
    "\n",
    "    sum_int(4,5) --> 9\n",
    "    sum_int(100,40) --> 140"
   ]
  },
  {
   "cell_type": "code",
   "execution_count": null,
   "metadata": {},
   "outputs": [],
   "source": []
  },
  {
   "cell_type": "markdown",
   "metadata": {},
   "source": [
    "# Challenge 6:\n",
    "## 2 points\n",
    "Write a function that takes someone's name as an input, then prints a greeting.\n",
    "\n",
    "    greeting(\"Daisy\") --> \"Hello Daisy!\"\n",
    "    greeting(\"Angelo\") --> \"Hello Angelo!\""
   ]
  },
  {
   "cell_type": "code",
   "execution_count": null,
   "metadata": {},
   "outputs": [],
   "source": []
  },
  {
   "cell_type": "markdown",
   "metadata": {},
   "source": [
    "# Challenge 7:\n",
    "##  2 points\n",
    "Using turtle, create a function that draws a hexagon with custom side lengths, line thickness, and line colour. "
   ]
  },
  {
   "cell_type": "code",
   "execution_count": null,
   "metadata": {},
   "outputs": [],
   "source": []
  },
  {
   "cell_type": "markdown",
   "metadata": {},
   "source": [
    "# Challenge 8:\n",
    "## 3 points\n",
    "Create a function that returns the factorial of an integer. \n",
    "\n",
    "    factorial(4) = 24\n",
    "    factorial(3) = 6\n",
    "    factorial(2) = 2"
   ]
  },
  {
   "cell_type": "code",
   "execution_count": null,
   "metadata": {},
   "outputs": [],
   "source": []
  },
  {
   "cell_type": "markdown",
   "metadata": {},
   "source": [
    "# Challenge 9:\n",
    "## 3 points\n",
    "Create a function that calculates the average of a list of numbers.\n",
    "\n",
    "    average(10,11,12) --> 11\n",
    "    average(5,10,5,10) --> 7.5"
   ]
  },
  {
   "cell_type": "code",
   "execution_count": null,
   "metadata": {},
   "outputs": [],
   "source": []
  },
  {
   "cell_type": "markdown",
   "metadata": {},
   "source": [
    "# Challenge 10:\n",
    "## 3 points\n",
    "The local police department would like your help. They want you to write a function that calculates the amount of money they fine a person based off of how much they were speeding by. If the person was going at or less than 50 km/h, there is no fine. If they person was going at a speed higher than 50 km/h, but lower than 60 km/h, they get fined $\\$500$. If they person was going at or higher than 60 km/h, they get fined $\\$700$. If it's their birthday, they get half off of the fine. Your function should take two parameters: speed and whether not it is the person's birthday, and should print or return the total fine.\n",
    "\n",
    "    fine_amount(30, True) --> 0\n",
    "    fine_amount(70, True) --> 350\n",
    "    fine_amount(55, False) --> 500"
   ]
  },
  {
   "cell_type": "code",
   "execution_count": null,
   "metadata": {},
   "outputs": [],
   "source": []
  },
  {
   "cell_type": "markdown",
   "metadata": {},
   "source": [
    "# Challenge 11:\n",
    "## 4 points\n",
    "Write a function that returns the number of times the string \"no\" appears within a given input.\n",
    "\n",
    "    no_count(\"hello no yes no\") --> 2\n",
    "    no_count(\"nonono\") --> 3\n",
    "    no_count(\"hello\") --> 0"
   ]
  },
  {
   "cell_type": "code",
   "execution_count": null,
   "metadata": {},
   "outputs": [],
   "source": []
  },
  {
   "cell_type": "markdown",
   "metadata": {},
   "source": [
    "# Challenge 12:\n",
    "## 4 points\n",
    "You have been comissioned by the world's worst mathematician to help them with their even number research. Help them by writing a function that takes a list of integers, and returns the number of even numbers on that list.\n",
    "\n",
    "    even_count(2, 1, 2) --> 2\n",
    "    even_count(0, 5, 28) --> 2"
   ]
  },
  {
   "cell_type": "code",
   "execution_count": null,
   "metadata": {},
   "outputs": [],
   "source": []
  },
  {
   "cell_type": "markdown",
   "metadata": {},
   "source": [
    "#  Challenge 13:\n",
    "## 4 points\n",
    "Calculate the sum of all numbers from 0 to 100 that are divisible by 3 and 5."
   ]
  },
  {
   "cell_type": "code",
   "execution_count": null,
   "metadata": {},
   "outputs": [],
   "source": []
  },
  {
   "cell_type": "markdown",
   "metadata": {},
   "source": [
    "# Challenge 14:\n",
    "## 4 points\n",
    "You have been tasked by the king of pop bang to create a very special function. The function should take an integer as input, and output \"Pop\" if the integer is a multiple of three, and output \"Bang\" if the integer is a multiple of 5. If the integer is a multiple of both, the function should output \"PopBang\". If the integer is a multiple of neither, just return the integer.\n",
    "\n",
    "    pop_bang(\"3\") --> Pop\n",
    "    pop_bang(\"15\") --> PopBang\n",
    "    pop_bang(\"4\") --> 4"
   ]
  },
  {
   "cell_type": "code",
   "execution_count": null,
   "metadata": {},
   "outputs": [],
   "source": []
  },
  {
   "cell_type": "markdown",
   "metadata": {},
   "source": [
    "# Challenge 15:\n",
    "## 5 points\n",
    "Given 3 integer values, a b c, return the sum. However, if one of the values is the same as another of the values, it does not count towards the sum. \n",
    "\n",
    "    lone_sum(1, 2, 3) → 6\n",
    "    lone_sum(3, 2, 3) → 2\n",
    "    lone_sum(3, 3, 3) → 0"
   ]
  },
  {
   "cell_type": "code",
   "execution_count": null,
   "metadata": {},
   "outputs": [],
   "source": []
  },
  {
   "cell_type": "markdown",
   "metadata": {},
   "source": [
    "# Challenge 16:\n",
    "## 6 points\n",
    "Find the sum of all prime numbers under 1000."
   ]
  },
  {
   "cell_type": "code",
   "execution_count": null,
   "metadata": {},
   "outputs": [],
   "source": []
  },
  {
   "cell_type": "markdown",
   "metadata": {},
   "source": [
    "# Challenge 17:\n",
    "## 6 points\n",
    "You have been employed by Bob, the world's biggest hater of words with duplicate letters. Bob has tasked you to create a program that does the following: given a phrase, print \"I hate it!\" if any individual word in the phrase contains duplicate letters. Return \"I love it!\" otherwise."
   ]
  },
  {
   "cell_type": "code",
   "execution_count": null,
   "metadata": {},
   "outputs": [],
   "source": []
  },
  {
   "cell_type": "markdown",
   "metadata": {},
   "source": [
    "# Challenge 18:\n",
    "## 7 points\n",
    "A robot has been given a list of movement instructions. Each instruction is either left, right, up or down, followed by a distance to move. The robot starts at [0, 0]. You want to calculate where the robot will end up and return its final position as a list.\n",
    "\n",
    "To illustrate, if the robot is given the following instructions:\n",
    "\n",
    "    [\"right 10\", \"up 50\", \"left 30\", \"down 10\"]\n",
    "\n",
    "It will end up 20 left and 40 up from where it started, so we return \n",
    "\n",
    "    [-20, 40]."
   ]
  },
  {
   "cell_type": "code",
   "execution_count": null,
   "metadata": {},
   "outputs": [],
   "source": []
  },
  {
   "cell_type": "markdown",
   "metadata": {},
   "source": [
    "# Challenge 19: \n",
    "## 10 points\n",
    "Prison Break\n",
    "A prison can be represented as a list of cells. Each cell contains exactly one prisoner. A 1 represents an unlocked cell and a 0 represents a locked cell.\n",
    "\n",
    "    [1, 1, 0, 0, 0, 1, 0]\n",
    "    \n",
    "Starting from the leftmost cell, you are tasked with seeing how many prisoners you can set free, with a catch. Each time you free a prisoner, the locked cells become unlocked, and the unlocked cells become locked again.\n",
    "\n",
    "So, if we use the example above:\n",
    "\n",
    "    [1, 1, 0, 0, 0, 1, 0]\n",
    "    #You free the prisoner in the 1st cell.\n",
    "\n",
    "    [0, 0, 1, 1, 1, 0, 1]\n",
    "    #You free the prisoner in the 3rd cell (2nd one locked).\n",
    "\n",
    "    [1, 1, 0, 0, 0, 1, 0]\n",
    "    #You free the prisoner in the 6th cell (3rd, 4th and 5th locked).\n",
    "\n",
    "    [0, 0, 1, 1, 1, 0, 1]\n",
    "    #You free the prisoner in the 7th cell - and you are done!\n",
    "\n",
    "Here, we have freed 4 prisoners in total.\n",
    "\n",
    "Create a function that, given this unique prison arrangement, returns the number of freed prisoners.\n",
    "\n",
    "Examples\n",
    "\n",
    "    freed_prisoners([1, 1, 0, 0, 0, 1, 0]) ➞ 4\n",
    "\n",
    "    freed_prisoners([1, 1, 1]) ➞ 1\n",
    "\n",
    "    freed_prisoners([0, 0, 0]) ➞ 0\n",
    "\n",
    "    freed_prisoners([0, 1, 1, 1]) ➞ 0\n"
   ]
  },
  {
   "cell_type": "code",
   "execution_count": null,
   "metadata": {},
   "outputs": [],
   "source": []
  },
  {
   "cell_type": "markdown",
   "metadata": {},
   "source": [
    "# Challenge 20:\n",
    "## 10 points\n",
    "Only using loops, conditionals, variables, and basic list methods (do not use .max() or .sort()), make a program that allows the user to input a list of numbers, then prints the largest number from that list."
   ]
  },
  {
   "cell_type": "code",
   "execution_count": null,
   "metadata": {},
   "outputs": [],
   "source": []
  }
 ],
 "metadata": {
  "kernelspec": {
   "display_name": "Python 3",
   "language": "python",
   "name": "python3"
  },
  "language_info": {
   "codemirror_mode": {
    "name": "ipython",
    "version": 3
   },
   "file_extension": ".py",
   "mimetype": "text/x-python",
   "name": "python",
   "nbconvert_exporter": "python",
   "pygments_lexer": "ipython3",
   "version": "3.8.3"
  }
 },
 "nbformat": 4,
 "nbformat_minor": 4
}
