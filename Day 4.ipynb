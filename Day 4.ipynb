{
 "cells": [
  {
   "cell_type": "markdown",
   "metadata": {},
   "source": [
    "# Hashtag Challenge\n",
    "## More Complex Version\n",
    "This version is more complex due to the use of a more complex version of the print function."
   ]
  },
  {
   "cell_type": "code",
   "execution_count": 45,
   "metadata": {},
   "outputs": [
    {
     "name": "stdout",
     "output_type": "stream",
     "text": [
      "how large?\n",
      "10\n",
      "# # # # # # # # # # \n",
      "# # # # # # # # # # \n",
      "# # # # # # # # # # \n",
      "# # # # # # # # # # \n",
      "# # # # # # # # # # \n",
      "# # # # # # # # # # \n",
      "# # # # # # # # # # \n",
      "# # # # # # # # # # \n",
      "# # # # # # # # # # \n",
      "# # # # # # # # # # \n"
     ]
    }
   ],
   "source": [
    "size = int(input(\"how large?\\n\"))\n",
    "\n",
    "for x in range(size):\n",
    "    for y in range(size):\n",
    "        print(\"#\", end=\" \")\n",
    "    print(\"\\n\", end =\"\")"
   ]
  },
  {
   "cell_type": "markdown",
   "metadata": {},
   "source": [
    "## More Simple Version\n",
    "This version is more simple due to the use of the default nature of the print function. By default, the print function prints on a new line, so we can utilise this and skip printing the \\n character."
   ]
  },
  {
   "cell_type": "code",
   "execution_count": 64,
   "metadata": {},
   "outputs": [
    {
     "name": "stdout",
     "output_type": "stream",
     "text": [
      "how large?\n",
      "11\n",
      "\n",
      "# # # # # # # # # # # \n",
      "# # # # # # # # # # # \n",
      "# # # # # # # # # # # \n",
      "# # # # # # # # # # # \n",
      "# # # # # # # # # # # \n",
      "# # # # # # # # # # # \n",
      "# # # # # # # # # # # \n",
      "# # # # # # # # # # # \n",
      "# # # # # # # # # # # \n",
      "# # # # # # # # # # # \n",
      "# # # # # # # # # # # "
     ]
    }
   ],
   "source": [
    "size = int(input(\"how large?\\n\"))\n",
    "\n",
    "for x in range(size):\n",
    "    print(\"\")\n",
    "    for y in range(size):\n",
    "        print(\"#\", end=\" \")"
   ]
  },
  {
   "cell_type": "markdown",
   "metadata": {},
   "source": [
    "# How to read basic files\n",
    "## McD example"
   ]
  },
  {
   "cell_type": "code",
   "execution_count": 47,
   "metadata": {},
   "outputs": [
    {
     "name": "stdout",
     "output_type": "stream",
     "text": [
      "['McSpicy Chicken Filet', 'Filet-O-Fish', 'Big Mac', 'Double Cheeseburger', \"Ham N' Cheese Burger\", 'Sausage McMuffin with Egg', 'Egg & Cheese Burger', 'Cheeseburger', 'Chicken McNuggets', 'McWings']\n"
     ]
    }
   ],
   "source": [
    "menu_raw = open('McD.txt')\n",
    "#open the McD.txt file, and save it to the variable menu_raw\n",
    "\n",
    "menu_string = menu_raw.read()\n",
    "#read the raw data from menu_raw into menu_read\n",
    "\n",
    "menu_list = menu_string.split('\\n')\n",
    "#using the .split() method, turn the string menu_string into a list, and save to menu_list\n",
    "menu_list.remove('')\n",
    "#remove the null string just to clean up the data\n",
    "\n",
    "print(menu_list)"
   ]
  },
  {
   "cell_type": "markdown",
   "metadata": {},
   "source": [
    "## USA example\n",
    "### Read & Load the data"
   ]
  },
  {
   "cell_type": "code",
   "execution_count": 48,
   "metadata": {},
   "outputs": [
    {
     "name": "stdout",
     "output_type": "stream",
     "text": [
      "['a', 'aa', 'aaa', 'aachen', 'aardvark', 'aardvarks', 'aaron', 'aback', 'abacus', 'abacuses']\n"
     ]
    }
   ],
   "source": [
    "usa_raw = open('usa.txt')\n",
    "#open the usa.txt file, and save it to the variable usa_raw\n",
    "\n",
    "usa_string = usa_raw.read()\n",
    "#read the raw data from usa_raw into usa_string\n",
    "\n",
    "usa_list =  usa_string.split('\\n')\n",
    "#using the .split() method, turn the string usa_string into a list, and save to usa_list\n",
    "\n",
    "usa_raw.close()\n",
    "#close usa_raw\n",
    "\n",
    "print(usa_list[0:10])\n",
    "#print the first 10 elements of usa_list"
   ]
  },
  {
   "cell_type": "markdown",
   "metadata": {},
   "source": [
    "### Word Checker Function\n",
    "note the use of .lower() to ensure that user input with capitals still works"
   ]
  },
  {
   "cell_type": "code",
   "execution_count": 49,
   "metadata": {},
   "outputs": [
    {
     "name": "stdout",
     "output_type": "stream",
     "text": [
      "what word would you like to check?\n",
      "hello\n",
      "americans approve of this word\n"
     ]
    }
   ],
   "source": [
    "def check_word(word):\n",
    "#define the function to check words\n",
    "    word = word.lower()\n",
    "    #turn the word given to the function to lowercase so words with capitals doesn't crash the program\n",
    "    \n",
    "    if word in usa_list:\n",
    "    #if the word is in the list\n",
    "        print(\"americans approve of this word\")\n",
    "    elif word.isdigit():\n",
    "    #if the word is an integer\n",
    "        print(\"thats a number, not a proper word\")\n",
    "    else: \n",
    "        print(\"americans do not approve of this word\")\n",
    "\n",
    "user_word = input(\"what word would you like to check?\\n\")\n",
    "#save user input to user_word\n",
    "\n",
    "check_word(user_word)\n",
    "#call the method check_word on the input user_word"
   ]
  },
  {
   "cell_type": "markdown",
   "metadata": {},
   "source": [
    "### How many word start with 'a'?\n",
    "Note the use of a for loop to directly access all of the words in the list. The use of \"return\" in the end allows the function to give the user the final value, so that it is possible to get the actual numeric value from this function, and do stuff with it, which is shown in the last line."
   ]
  },
  {
   "cell_type": "code",
   "execution_count": 62,
   "metadata": {},
   "outputs": [
    {
     "name": "stdout",
     "output_type": "stream",
     "text": [
      "what letter/phrase would you like to check? hello\n",
      "number of words that start with hello  :  1\n",
      "number of words that start with hello + 2:  3\n"
     ]
    }
   ],
   "source": [
    "def num_start_with(letter):\n",
    "#define a funciton to count the number of words that start with 'a'\n",
    "    letter = letter.lower()\n",
    "    #turn the letter into lowercase so the program doesn't crash when the user uses capitals\n",
    "    count = 0\n",
    "    #define a counter and set it to 0\n",
    "    for i in usa_list:\n",
    "    #use a for loop to loop through the list, and access the word through the iterator\n",
    "        if i.startswith(letter):\n",
    "        #if i (the word) starts with the character\n",
    "            count += 1\n",
    "            #increase count by 1\n",
    "    return count\n",
    "    #print the value of count when the program is done\n",
    "\n",
    "user_letter = input(\"what letter/phrase would you like to check? \")\n",
    "#ask the user for what letter they would like to check\n",
    "\n",
    "print(\"number of words that start with\", user_letter, \" : \", num_start_with(user_letter))\n",
    "#print the number of words that start with the users chosen letter\n",
    "\n",
    "print(\"number of words that start with\", user_letter  , \"+ 2: \", num_start_with(user_letter)+2)\n",
    "#print the number of words that start with the users chosen letter + 2\n",
    "\n",
    "#demonstrates why we use \"return\" --> so that we can do more stuff with the final value"
   ]
  },
  {
   "cell_type": "code",
   "execution_count": 65,
   "metadata": {},
   "outputs": [
    {
     "name": "stdout",
     "output_type": "stream",
     "text": [
      "[3509, 3389, 6193, 4499, 2502, 2455, 1808, 2144, 2663, 526, 400, 1746, 2961, 1004, 1572, 4278, 341, 3571, 6434, 3147, 3330, 1047, 1523, 35, 165, 94]\n"
     ]
    }
   ],
   "source": [
    "import string\n",
    "\n",
    "alphabet =  list(string.ascii_lowercase)\n",
    "#create a list of all the alphabet in lowercase\n",
    "numbers = []\n",
    "#create an empty list to store all the numeric values in\n",
    "\n",
    "for i in alphabet:\n",
    "#loop through the list\n",
    "    numbers.append(num_start_with(i))\n",
    "    #append the number of words that start with the iterator\n",
    "    \n",
    "print(numbers)"
   ]
  }
 ],
 "metadata": {
  "kernelspec": {
   "display_name": "Python 3",
   "language": "python",
   "name": "python3"
  },
  "language_info": {
   "codemirror_mode": {
    "name": "ipython",
    "version": 3
   },
   "file_extension": ".py",
   "mimetype": "text/x-python",
   "name": "python",
   "nbconvert_exporter": "python",
   "pygments_lexer": "ipython3",
   "version": "3.8.3"
  }
 },
 "nbformat": 4,
 "nbformat_minor": 4
}
