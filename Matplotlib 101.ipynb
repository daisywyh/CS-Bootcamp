{
 "cells": [
  {
   "cell_type": "markdown",
   "metadata": {},
   "source": [
    "# Matplotlib 101"
   ]
  },
  {
   "cell_type": "markdown",
   "metadata": {},
   "source": [
    "### Setting up matplotlib and pyplot"
   ]
  },
  {
   "cell_type": "code",
   "execution_count": 50,
   "metadata": {},
   "outputs": [],
   "source": [
    "%matplotlib inline\n",
    "#make sure that the graphs are created INSIDE the jupyter notebook\n",
    "\n",
    "import matplotlib.pyplot as plt\n",
    "#import subsection of matplotlib called pyplot, and change it's name to plt"
   ]
  },
  {
   "cell_type": "markdown",
   "metadata": {},
   "source": [
    "### Ploting basic graphs (two variables)"
   ]
  },
  {
   "cell_type": "code",
   "execution_count": 51,
   "metadata": {},
   "outputs": [
    {
     "data": {
      "image/png": "[encoded data removed]",
      "text/plain": [
       "<Figure size 432x288 with 1 Axes>"
      ]
     },
     "metadata": {
      "needs_background": "light"
     },
     "output_type": "display_data"
    }
   ],
   "source": [
    "x =  [1,2,3,4,5]\n",
    "#create a list of x coordinates\n",
    "y =  [1,4,9,16,25]\n",
    "#create a list of y coordinates\n",
    "\n",
    "plt.plot(x,y)\n",
    "#plot the list of x coordinates against y coordinates\n",
    "#note: by default, matplotlib plots all graphs as connected line graphs. \n",
    "#change this by using options in the plot function\n",
    "'''\n",
    "PLOTTING WITH OPTIONS\n",
    "plt.plot(x,y,'go')\n",
    "#g changes color to green\n",
    "#o indicates that the dots should be shown\n",
    "\n",
    "plt.plot(x,y,'mx')\n",
    "#m changes colour to magenta\n",
    "#x indicates that it should be a scatter plot using crosses\n",
    "\n",
    "'''\n",
    "plt.show()\n",
    "#if using python shell, make sure to type plt.show(), or else it doesn't show"
   ]
  },
  {
   "cell_type": "markdown",
   "metadata": {},
   "source": [
    "### Plotting three variable graphs (two y variables, one x variable)"
   ]
  },
  {
   "cell_type": "code",
   "execution_count": 52,
   "metadata": {},
   "outputs": [
    {
     "data": {
      "image/png": "[encoded data removed]",
      "text/plain": [
       "<Figure size 432x288 with 1 Axes>"
      ]
     },
     "metadata": {
      "needs_background": "light"
     },
     "output_type": "display_data"
    }
   ],
   "source": [
    "x = [1,2,3,4,5]\n",
    "fathers_salary = [1,4,9,16,25]\n",
    "mothers_salary = [2,5,10,15,30]\n",
    "#establish the list of data that we are going to plot\n",
    "\n",
    "plt.plot(x,fathers_salary,'mx',x,mothers_salary,'go')\n",
    "#in order to plot two y variables, we must repeat the options from before. Note the use of options\n",
    "plt.show()"
   ]
  },
  {
   "cell_type": "markdown",
   "metadata": {},
   "source": [
    "### Plotting bar charts"
   ]
  },
  {
   "cell_type": "code",
   "execution_count": 53,
   "metadata": {},
   "outputs": [
    {
     "data": {
      "image/png": "[encoded data removed]",
      "text/plain": [
       "<Figure size 432x288 with 1 Axes>"
      ]
     },
     "metadata": {
      "needs_background": "light"
     },
     "output_type": "display_data"
    }
   ],
   "source": [
    "x = ['Jan','Feb','March','April','May']\n",
    "#note: bar charts DO NOT have to use numbers for their x axis\n",
    "y1 = [1,4,9,16,25]\n",
    "#y coordinates\n",
    "\n",
    "plt.bar(x,y1)\n",
    "#note the use of .bar to plot a bar chart\n",
    "plt.show()\n",
    "#indicate to Python to show the actual graph"
   ]
  },
  {
   "cell_type": "markdown",
   "metadata": {},
   "source": [
    "## Plotting the data from day 4"
   ]
  },
  {
   "cell_type": "markdown",
   "metadata": {},
   "source": [
    "### Read the data from the usa.txt file"
   ]
  },
  {
   "cell_type": "code",
   "execution_count": 54,
   "metadata": {},
   "outputs": [
    {
     "name": "stdout",
     "output_type": "stream",
     "text": [
      "['a', 'aa', 'aaa', 'aachen', 'aardvark', 'aardvarks', 'aaron', 'aback', 'abacus', 'abacuses']\n"
     ]
    }
   ],
   "source": [
    "usa_raw = open('usa.txt')\n",
    "#open the usa.txt file, and save it to the variable usa_raw\n",
    "\n",
    "usa_string = usa_raw.read()\n",
    "#read the raw data from usa_raw into usa_string\n",
    "\n",
    "usa_list =  usa_string.split('\\n')\n",
    "#using the .split() method, turn the string usa_string into a list, and save to usa_list\n",
    "\n",
    "usa_raw.close()\n",
    "#close usa_raw\n",
    "\n",
    "print(usa_list[0:10])\n",
    "#print the first 10 elements of usa_list"
   ]
  },
  {
   "cell_type": "markdown",
   "metadata": {},
   "source": [
    "### Number of words that start with each word of the alphabet"
   ]
  },
  {
   "cell_type": "code",
   "execution_count": 55,
   "metadata": {},
   "outputs": [
    {
     "name": "stdout",
     "output_type": "stream",
     "text": [
      "[3509, 3389, 6193, 4499, 2502, 2455, 1808, 2144, 2663, 526, 400, 1746, 2961, 1004, 1572, 4278, 341, 3571, 6434, 3147, 3330, 1047, 1523, 35, 165, 94]\n"
     ]
    }
   ],
   "source": [
    "import string\n",
    "\n",
    "def num_start_with(letter):\n",
    "#define a funciton to count the number of words that start with 'a'\n",
    "    letter = letter.lower()\n",
    "    #turn the letter into lowercase so the program doesn't crash when the user uses capitals\n",
    "    count = 0\n",
    "    #define a counter and set it to 0\n",
    "    for i in usa_list:\n",
    "    #use a for loop to loop through the list, and access the word through the iterator\n",
    "        if i.startswith(letter):\n",
    "        #if i (the word) starts with the character\n",
    "            count += 1\n",
    "            #increase count by 1\n",
    "    return count\n",
    "    #print the value of count when the program is done\n",
    "\n",
    "alphabet =  list(string.ascii_lowercase)\n",
    "#create a list of all the alphabet in lowercase\n",
    "numbers = []\n",
    "#create an empty list to store all the numeric values in\n",
    "\n",
    "for i in alphabet:\n",
    "#loop through the list\n",
    "    numbers.append(num_start_with(i))\n",
    "    #append the number of words that start with the iterator\n",
    "    \n",
    "print(numbers)"
   ]
  },
  {
   "cell_type": "markdown",
   "metadata": {},
   "source": [
    "### Plotting number of words in each alphabet"
   ]
  },
  {
   "cell_type": "code",
   "execution_count": 56,
   "metadata": {},
   "outputs": [
    {
     "data": {
      "image/png": "[encoded data removed]",
      "text/plain": [
       "<Figure size 432x288 with 1 Axes>"
      ]
     },
     "metadata": {
      "needs_background": "light"
     },
     "output_type": "display_data"
    }
   ],
   "source": [
    "plt.bar(alphabet,numbers,color='pink')\n",
    "#plot alphabet, the actual alphabet as the x axis\n",
    "#plot numbers, the list of how many words start with each resepective alphabet, as the y axis\n",
    "#change color to pink\n",
    "\n",
    "plt.title(\"Number of words that start with each alphabet\")\n",
    "#creating a title for the graph\n",
    "plt.xlabel('Alphabet')\n",
    "#label x axis as alphabet\n",
    "plt.ylabel('Count')\n",
    "#label y axis as count\n",
    "\n",
    "plt.show()"
   ]
  }
 ],
 "metadata": {
  "kernelspec": {
   "display_name": "Python 3",
   "language": "python",
   "name": "python3"
  },
  "language_info": {
   "codemirror_mode": {
    "name": "ipython",
    "version": 3
   },
   "file_extension": ".py",
   "mimetype": "text/x-python",
   "name": "python",
   "nbconvert_exporter": "python",
   "pygments_lexer": "ipython3",
   "version": "3.8.3"
  }
 },
 "nbformat": 4,
 "nbformat_minor": 4
}
